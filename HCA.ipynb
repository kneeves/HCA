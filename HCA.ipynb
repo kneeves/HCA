{
 "cells": [
  {
   "cell_type": "markdown",
   "metadata": {},
   "source": [
    "# CBEN 470 Microfluidics - Hydraulic Circuit Analysis"
   ]
  },
  {
   "cell_type": "code",
   "execution_count": null,
   "metadata": {
    "collapsed": true
   },
   "outputs": [],
   "source": [
    "import ipy_table\n",
    "import numpy as np\n",
    "from IPython.display import Image\n",
    "from numpy import matrix\n",
    "from numpy import linalg\n",
    "from IPython.display import HTML\n",
    "\n",
    "HTML('''<script>\n",
    "code_show=true; \n",
    "function code_toggle() {\n",
    " if (code_show){\n",
    " $('div.input').hide();\n",
    " } else {\n",
    " $('div.input').show();\n",
    " }\n",
    " code_show = !code_show\n",
    "} \n",
    "$( document ).ready(code_toggle);\n",
    "</script>\n",
    "<form action=\"javascript:code_toggle()\"><input type=\"submit\" value=\"Click here to toggle on/off the raw code.\"></form>''')"
   ]
  },
  {
   "cell_type": "markdown",
   "metadata": {},
   "source": [
    "Hydraulic circuit analysis (HCA) is used to design devices by estimating the fluidic network as an electrical circuit."
   ]
  },
  {
   "cell_type": "markdown",
   "metadata": {},
   "source": [
    "Recall that Poiseuille flow in a tube is:\n",
    "$$u_z = \\frac{1}{4\\mu} \\frac{\\partial P}{\\partial z}(R^2-r^2) $$"
   ]
  },
  {
   "cell_type": "markdown",
   "metadata": {},
   "source": [
    "where $u_z$ is the fluid velocity in the axial direction, $\\mu$ is the viscosity, $P$ is the pressure, $z$ is the axial direction, $R$ is the radius of the tube, and $r$ is the radial position."
   ]
  },
  {
   "cell_type": "markdown",
   "metadata": {},
   "source": [
    "This give the parabolic profile you've come to know for tube flow:"
   ]
  },
  {
   "cell_type": "markdown",
   "metadata": {},
   "source": [
    "Integrate over the area to get the flow rate:\n",
    "$$Q = -\\frac{\\pi R^4}{8 \\mu} \\frac{\\partial P}{\\partial z}$$\n",
    "where $Q$ is the flow rate."
   ]
  },
  {
   "cell_type": "markdown",
   "metadata": {},
   "source": [
    "If flow is axial and the pressure gradient is uniform then:\n",
    "\n",
    "$$ \\frac{\\partial P}{\\partial z} \\approx \\frac{\\Delta P}{L}$$\n",
    "\n",
    "$$Q = \\frac{\\pi R^4}{8 \\mu L}\\Delta P$$\n",
    "\n",
    "where $L$ is the length of the tube. Note that this approximation (partial derivative to delta) only holds for staight and long tubes. Here, long means that R/L << 1.\n"
   ]
  },
  {
   "cell_type": "markdown",
   "metadata": {},
   "source": [
    "We rewrite the flow rate equation for a generic cross-sectional area:\n",
    "\n",
    "$$Q = \\frac{A R^4}{8 \\mu L} \\Delta P$$"
   ]
  },
  {
   "cell_type": "markdown",
   "metadata": {},
   "source": [
    "We define the **hydraulic resitance**, $R_h$ as:\n",
    "\n",
    "$$ R_h = \\frac{8 \\mu L}{A R^2}$$\n",
    "\n",
    "$$ Q = \\frac{\\Delta P}{R_h} $$\n",
    "\n",
    "This last equation is known as the **Hagen-Poiseuille Law**."
   ]
  },
  {
   "cell_type": "markdown",
   "metadata": {},
   "source": [
    "Note, that the Hagen-Poiseuille law is analogous to Ohm's Law:\n",
    "$$I = \\frac{\\Delta V}{R}$$\n",
    "where $I$ is the current, $V$ is the voltage, and $R$ is the resistance."
   ]
  },
  {
   "cell_type": "markdown",
   "metadata": {},
   "source": [
    "The image below show the equivalent 'hydraulic circuit'\n",
    "\n",
    "<img src=\"HCA.png\">\n"
   ]
  },
  {
   "cell_type": "code",
   "execution_count": 51,
   "metadata": {
    "collapsed": false
   },
   "outputs": [
    {
     "data": {
      "text/html": [
       "<table border=\"1\" cellpadding=\"3\" cellspacing=\"0\"  style=\"border:1px solid black;border-collapse:collapse;\"><tr><td><b>Electrical&nbspCircuit</b></td><td><b>Fluidic&nbspCircuit</b></td></tr><tr><td>Battery/Power&nbspSupply</td><td>Pump</td></tr><tr><td>$\\Delta&nbspV$</td><td>$\\Delta&nbspP$</td></tr><tr><td>I</td><td>Q</td></tr><tr><td>i</td><td>u</td></tr><tr><td>R</td><td>R$_h$</td></tr><tr><td>C</td><td>C$_h$</td></tr><tr><td>L,&nbspinductance</td><td>inertia&nbsp(usually&nbspnegligible)</td></tr></table>"
      ],
      "text/plain": [
       "<ipy_table.IpyTable at 0x1074bb9d0>"
      ]
     },
     "execution_count": 51,
     "metadata": {},
     "output_type": "execute_result"
    }
   ],
   "source": [
    "from ipy_table import *\n",
    "circuits = [\n",
    "    ['Electrical Circuit', 'Fluidic Circuit'],\n",
    "    ['Battery/Power Supply', 'Pump'],\n",
    "    ['$\\Delta V$', '$\\Delta P$'],\n",
    "    ['I', 'Q'],\n",
    "    ['i','u'],\n",
    "    ['R','R$_h$'],\n",
    "    ['C','C$_h$'],\n",
    "    ['L, inductance','inertia (usually negligible)']\n",
    "\n",
    "];\n",
    "make_table(circuits)\n",
    "set_row_style(0, bold=True)"
   ]
  },
  {
   "cell_type": "markdown",
   "metadata": {},
   "source": [
    "Consider several tubes that intersect at a node. Conservation of mass requires that:\n",
    "\n",
    "$$\\sum_{channels} Q = 0$$\n",
    "\n",
    "Using the Hagen-Poiseuille law and conservation of mass gives steady-state behavior."
   ]
  },
  {
   "cell_type": "markdown",
   "metadata": {},
   "source": [
    "We have assumed circular cross-section, but microchannels are usually rectangular, trapezoidal, or semicircular.\n",
    "\n",
    "For a circular channel the hydraulic radius, R_h\n",
    "\n",
    "$$R_h = \\frac{8 \\eta L}{R_h^2A}$$ \n",
    "\n",
    "In general: \n",
    "\n",
    "$$R_h = \\frac{2A}{P}$$\n",
    "\n",
    "where $A$ is the area and $P$ is the perimeter. \n"
   ]
  },
  {
   "cell_type": "markdown",
   "metadata": {
    "collapsed": true
   },
   "source": [
    "**Series and parallel components rules**\n",
    "\n",
    "Resistors in Series: $R_h = R_{h,1} + R_{h,2}$\n",
    "\n",
    "Resistors in Parallel: $\\frac{1}{R_h} = \\frac{1}{R_{h,1}} + \\frac{1}{R_{h,2}}$"
   ]
  },
  {
   "cell_type": "markdown",
   "metadata": {},
   "source": [
    "**Example: Bifurcating channel**\n",
    "\n",
    "<img src=\"BifurcatingChan.png\">\n",
    "\n",
    "All channels have a radius, R = 20 $\\mu$m\n",
    "\n",
    "L1 = 0.5 cm\n",
    "\n",
    "L2 = 1.0 cm\n",
    "\n",
    "L3 = 2.0 cm\n",
    "\n",
    "P1 = 0.11 MPa\n",
    "\n",
    "P3 = 0.1 MPa\n",
    "\n",
    "P4 = 0.1 MPa\n",
    "\n",
    "$\\mu$=10$^{-3}$ Pa s\n",
    "\n",
    "Unknowns: \n",
    "\n",
    "N - nodes (including inlets and outlets) -> Use conservation of mass\n",
    "\n",
    "M - channels --> Hagen-Poiseuille\n",
    "\n",
    "We need a (N + M) X (N + M) matrix of equations which can be inverted to obtain the solution. \n",
    "\n",
    "For this examples, we have seven unknowns--P1, P2, P3, P4, Q1, Q2, Q3--thus, we need seven equations.\n",
    "\n",
    "First, find the hydraulic resistance of the three channels:\n",
    "\n",
    "$$R_h = \\frac{8 \\mu L}{\\pi R^4}$$"
   ]
  },
  {
   "cell_type": "markdown",
   "metadata": {},
   "source": [
    "Calcualte the resistances in SI units:"
   ]
  },
  {
   "cell_type": "code",
   "execution_count": 52,
   "metadata": {
    "collapsed": false
   },
   "outputs": [],
   "source": [
    "L1=0.5e-2; L2=1e-2; L3=2e-2; mu=1e-3; R=20e-6;\n",
    "R1=8*mu*L1/(np.pi*R**4) #Units N/s m^5\n",
    "R2=8*mu*L2/(np.pi*R**4)\n",
    "R3=8*mu*L3/(np.pi*R**4)"
   ]
  },
  {
   "cell_type": "markdown",
   "metadata": {},
   "source": [
    "Convert Resistances from SI units to Pa/s um^3, and Pressures to Pa, so that numerical inversion works better"
   ]
  },
  {
   "cell_type": "code",
   "execution_count": 53,
   "metadata": {
    "collapsed": false
   },
   "outputs": [],
   "source": [
    "R11 = R1*1e-18; R22 = R2*1e-18; R33 = R3*1e-18; P1=110000; P2=100000; P3=100000"
   ]
  },
  {
   "cell_type": "markdown",
   "metadata": {},
   "source": [
    "Create the coefficient matrix"
   ]
  },
  {
   "cell_type": "code",
   "execution_count": 54,
   "metadata": {
    "collapsed": false
   },
   "outputs": [],
   "source": [
    "A = matrix( [[1, 0, 0, 0, 0, 0, 0], \\\n",
    "             [0, 0, 1, 0, 0, 0, 0], \\\n",
    "             [0, 0, 0, 1, 0, 0, 0], \\\n",
    "             [1, -1, 0, 0, -R11, 0, 0], \\\n",
    "             [0, 1, -1, 0, 0, -R22, 0], \\\n",
    "             [0, 1, 0, -1, 0, 0, -R33], \\\n",
    "            [0, 0, 0, 0, 1, -1, -1]])"
   ]
  },
  {
   "cell_type": "markdown",
   "metadata": {},
   "source": [
    "Create the solution matrix"
   ]
  },
  {
   "cell_type": "code",
   "execution_count": 55,
   "metadata": {
    "collapsed": false
   },
   "outputs": [],
   "source": [
    "b = matrix([[P1],[P2],[P3],[0],[0],[0],[0]])"
   ]
  },
  {
   "cell_type": "markdown",
   "metadata": {},
   "source": [
    "Solve the unknown by matrix inversion"
   ]
  },
  {
   "cell_type": "code",
   "execution_count": 56,
   "metadata": {
    "collapsed": false
   },
   "outputs": [
    {
     "name": "stdout",
     "output_type": "stream",
     "text": [
      "[[   110000.        ]\n",
      " [   105714.28571429]\n",
      " [   100000.        ]\n",
      " [   100000.        ]\n",
      " [ 53855874.06153931]\n",
      " [ 35903916.0410262 ]\n",
      " [ 17951958.02051311]]\n"
     ]
    }
   ],
   "source": [
    "print linalg.solve(A,b)"
   ]
  },
  {
   "cell_type": "markdown",
   "metadata": {},
   "source": [
    "From the inversion we find that P2 = 105,714 Pa, and the flow rates are Q1 = 0.054 uL/sec (5.4 x 10$^7$ um$^3$/s), Q2 = 0.036 uL/sec, Q3 = 0.018 uL/sec"
   ]
  }
 ],
 "metadata": {
  "kernelspec": {
   "display_name": "Python 2",
   "language": "python",
   "name": "python2"
  },
  "language_info": {
   "codemirror_mode": {
    "name": "ipython",
    "version": 2
   },
   "file_extension": ".py",
   "mimetype": "text/x-python",
   "name": "python",
   "nbconvert_exporter": "python",
   "pygments_lexer": "ipython2",
   "version": "2.7.10"
  }
 },
 "nbformat": 4,
 "nbformat_minor": 0
}
